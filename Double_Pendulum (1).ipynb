{
 "cells": [
  {
   "cell_type": "markdown",
   "metadata": {},
   "source": [
    "# Double pendulum  (parts a and b)"
   ]
  },
  {
   "cell_type": "markdown",
   "metadata": {},
   "source": [
    "## Euler-Lagrange equation\n",
    "\n",
    "For a simple pendulum, the Lagrangian with generalized coordinate $\\phi$ is\n",
    "\n",
    "$\\begin{align}\n",
    "  \\mathcal{L} = \\frac12 m L^2 \\dot\\phi^2 - mgL(1 - \\cos\\phi)\n",
    "\\end{align}$\n",
    "\n",
    "The Euler-Lagrange equation is\n",
    "\n",
    "$\\begin{align}\n",
    " \\frac{d}{dt}\\frac{\\partial\\mathcal{L}}{\\partial \\dot\\phi} = \\frac{\\partial\\mathcal L}{\\partial\\phi}\n",
    " \\quad\\Longrightarrow\\quad\n",
    " m L^2 \\ddot \\phi = -mgL\\sin\\phi\n",
    "  \\ \\mbox{or}\\ \\ddot\\phi = - \\omega_0^2\\sin\\phi = 0\n",
    "  \\;.\n",
    "\\end{align}$\n",
    "\n",
    "## Hamilton's equations\n",
    "\n",
    "The generalized momentum corresponding to $\\phi$ is\n",
    "\n",
    "$\\begin{align}\n",
    "   \\frac{\\partial\\mathcal{L}}{\\partial \\dot\\phi} = m L^2 \\dot\\phi \\equiv p_\\phi\n",
    "   \\;.\n",
    "\\end{align}$\n",
    "\n",
    "We can invert this equation to find $\\dot\\phi = p_\\phi / m L^2$.\n",
    "Constructing the Hamiltonian by Legendre transformation we find \n",
    "\n",
    "$\\begin{align}\n",
    "  \\mathcal{H} &= \\dot\\phi p_\\phi  - \\mathcal{L} \\\\\n",
    "              &= \\frac{p_\\phi^2}{m L^2} - \\frac12 m L^2 \\dot\\phi^2 + mgL(1 - \\cos\\phi) \\\\\n",
    "              &= \\frac{p_\\phi^2}{2 m L^2} + mgL(1 - \\cos\\phi)\n",
    "              \\;.\n",
    "\\end{align}$\n",
    "\n",
    "Thus $\\mathcal{H}$ is simply $T + V$.  Hamilton's equations are\n",
    "\n",
    "$\\begin{align}\n",
    "  \\dot\\phi &= \\frac{\\partial\\mathcal{H}}{\\partial p_\\phi} = \\frac{p_\\phi}{m L^2} \\\\\n",
    "  \\dot p_\\phi &= -\\frac{\\partial\\mathcal{H}}{\\partial \\phi} = -mgL \\sin\\phi \n",
    "  \\;.\n",
    "\\end{align}$"
   ]
  },
  {
   "cell_type": "code",
   "execution_count": 1,
   "metadata": {},
   "outputs": [],
   "source": [
    "%matplotlib inline"
   ]
  },
  {
   "cell_type": "code",
   "execution_count": 2,
   "metadata": {},
   "outputs": [],
   "source": [
    "import numpy as np\n",
    "from scipy.integrate import odeint, solve_ivp\n",
    "\n",
    "import matplotlib.pyplot as plt"
   ]
  },
  {
   "cell_type": "code",
   "execution_count": 3,
   "metadata": {},
   "outputs": [],
   "source": [
    "# The dpi (dots-per-inch) setting will affect the resolution and how large\n",
    "#  the plots appear on screen and printed.  So you may want/need to adjust \n",
    "#  the figsize when creating the figure.\n",
    "plt.rcParams['figure.dpi'] = 100.    # this is the default for notebook\n",
    "\n",
    "# Change the common font size (smaller when higher dpi)\n",
    "font_size = 10\n",
    "plt.rcParams.update({'font.size': font_size})"
   ]
  },
  {
   "cell_type": "markdown",
   "metadata": {},
   "source": [
    "## Pendulum class and utility functions"
   ]
  },
  {
   "cell_type": "code",
   "execution_count": 4,
   "metadata": {},
   "outputs": [],
   "source": [
    "class DoublePendulum():\n",
    "    \"\"\"\n",
    "    DoublePendulum class implements the parameters and Lagrange's equations for \n",
    "     a simple pendulum (no driving or damping).\n",
    "     \n",
    "    Parameters\n",
    "    ----------\n",
    "    L1 : float\n",
    "        length of the first simple pendulum\n",
    "    L2 : float\n",
    "        length of the second simple pendulum\n",
    "    g : float\n",
    "        gravitational acceleration at the earth's surface\n",
    "    mass1 : float\n",
    "        mass of first pendulum\n",
    "    mass2 : float\n",
    "        mass of second pendulum\n",
    "\n",
    "    Methods\n",
    "    -------\n",
    "    dy_dt(t, y)\n",
    "        Returns the right side of the differential equation in vector y, \n",
    "        given time t and the corresponding value of y.\n",
    "    \"\"\"\n",
    "    def __init__(self, L1=1., L2=1., g=1., mass1=1., mass2=1.):\n",
    "        self.L1 = L1\n",
    "        self.L2 = L2\n",
    "        self.g = g\n",
    "        self.mass1 = mass1\n",
    "        self.mass2 = mass2\n",
    "    \n",
    "    def dy_dt(self, t, y):\n",
    "        \"\"\"\n",
    "        This function returns the right-hand side of the diffeq: \n",
    "        [dphi/dt d^2phi/dt^2]\n",
    "        \n",
    "        Parameters\n",
    "        ----------\n",
    "        t : float\n",
    "            time \n",
    "        y : float\n",
    "            A 4-component vector with y[0] = phi1(t) and y[1] = dphi1/dt, y[2] = phi2(t) and y[3] = dphi2/dt\n",
    "            \n",
    "        Returns\n",
    "        -------\n",
    "        \n",
    "        \"\"\"\n",
    "        phi1, z1, phi2, z2 = y\n",
    "        \n",
    "        c, s = np.cos(phi1 - phi2), np.sin(phi1 - phi2)\n",
    "        denom = (self.mass1 + self.mass2 * s**2)\n",
    "        \n",
    "        phi1_dot = z1\n",
    "        z1_dot = (self.mass2 * self.g * np.sin(phi2) * c - self.mass2 * s * (self.L1 * z1**2 * c \\\n",
    "                  + self.L2 + z2**2) - (self.mass1 + self.mass2) * self.g + np.sin(phi1)) / self.L1 / denom\n",
    "        phi2_dot = z2\n",
    "        z2_dot = ((self.mass1 + self.mass2) * (self.L1 * z1**2 * s - self.g * np.sin(phi2) + self.g \\\n",
    "                  * np.sin(phi1) * c) + self.mass2 * self.L2 * z2**2 * s * c) / self.L2 / denom\n",
    "        \n",
    "        return phi1_dot, z1_dot, phi2_dot, z2_dot\n",
    "    \n",
    "    def solve_ode(self, t_pts, phi1_0, phi1_dot_0, phi2_0, phi2_dot_0,\n",
    "                  abserr=1.0e-10, relerr=1.0e-10):\n",
    "        \"\"\"\n",
    "        Solve the ODE given initial conditions.\n",
    "        Specify smaller abserr and relerr to get more precision.\n",
    "        \"\"\"\n",
    "        y = [phi1_0, phi1_dot_0, phi2_0, phi2_dot_0,] \n",
    "        solution = solve_ivp(self.dy_dt, (t_pts[0], t_pts[-1]), \n",
    "                             y, t_eval=t_pts, \n",
    "                             atol=abserr, rtol=relerr)\n",
    "        phi1, phi1_dot, phi2, phi2_dot, = solution.y\n",
    "\n",
    "        return phi1, phi1_dot, phi2, phi2_dot,\n",
    "    \n",
    "    def E(y):\n",
    "        \"\"\"The total energy of the system.\"\"\"\n",
    "        \n",
    "        p1, p1d, p2, p2d = y.T\n",
    "        V = -(mass1+mass2)*L1*g*np.cos(p1) - mass2*L2*g*np.cos(p2)\n",
    "        T = .5*mass1*(L1*p1d)**2 + .5*mass2*((L1*p1d)**2 + (L2*p2d)**2 + 2*L1*L2*p1d*p2d*cos(p1-p2))\n",
    "        return T + V"
   ]
  },
  {
   "cell_type": "code",
   "execution_count": 5,
   "metadata": {},
   "outputs": [],
   "source": [
    "def plot_y_vs_x(x, y, axis_labels=None, label=None, title=None, \n",
    "                color=None, linestyle=None, semilogy=False, loglog=False,\n",
    "                ax=None):\n",
    "    \"\"\"\n",
    "    Generic plotting function: return a figure axis with a plot of y vs. x,\n",
    "    with line color and style, title, axis labels, and line label\n",
    "    \"\"\"\n",
    "    if ax is None:        # if the axis object doesn't exist, make one\n",
    "        ax = plt.gca()\n",
    "\n",
    "    if (semilogy):\n",
    "        line, = ax.semilogy(x, y, label=label, \n",
    "                            color=color, linestyle=linestyle)\n",
    "    elif (loglog):\n",
    "        line, = ax.loglog(x, y, label=label, \n",
    "                          color=color, linestyle=linestyle)\n",
    "    else:\n",
    "        line, = ax.plot(x, y, label=label, \n",
    "                    color=color, linestyle=linestyle)\n",
    "\n",
    "    if label is not None:    # if a label if passed, show the legend\n",
    "        ax.legend()\n",
    "    if title is not None:    # set a title if one if passed\n",
    "        ax.set_title(title)\n",
    "    if axis_labels is not None:  # set x-axis and y-axis labels if passed  \n",
    "        ax.set_xlabel(axis_labels[0])\n",
    "        ax.set_ylabel(axis_labels[1])\n",
    "\n",
    "    return ax, line"
   ]
  },
  {
   "cell_type": "code",
   "execution_count": 6,
   "metadata": {},
   "outputs": [],
   "source": [
    "def start_stop_indices(t_pts, plot_start, plot_stop):\n",
    "    start_index = (np.fabs(t_pts-plot_start)).argmin()  # index in t_pts array \n",
    "    stop_index = (np.fabs(t_pts-plot_stop)).argmin()  # index in t_pts array \n",
    "    return start_index, stop_index"
   ]
  },
  {
   "cell_type": "markdown",
   "metadata": {},
   "source": [
    "## Make simple pendulum plots "
   ]
  },
  {
   "cell_type": "code",
   "execution_count": 7,
   "metadata": {
    "scrolled": false
   },
   "outputs": [],
   "source": [
    "# Labels for individual plot axes\n",
    "phi_vs_time_labels = (r'$t$', r'$\\phi(t)$')\n",
    "\n",
    "# Common plotting time (generate the full time then use slices)\n",
    "t_start = 0.\n",
    "t_end = 50.\n",
    "delta_t = 0.001\n",
    "\n",
    "t_pts = np.arange(t_start, t_end+delta_t, delta_t)  \n",
    "\n",
    "L1 = 1.\n",
    "L2 = 1.\n",
    "g = 1.\n",
    "mass1 = 1.\n",
    "mass2 = 1.\n",
    "\n",
    "# Instantiate a pendulum \n",
    "dp1 = DoublePendulum(L1=L1, L2=L2, g=g, mass1=mass1, mass2=mass2)\n"
   ]
  },
  {
   "cell_type": "code",
   "execution_count": 8,
   "metadata": {},
   "outputs": [
    {
     "data": {
      "image/png": "[encoded data removed]",
      "text/plain": [
       "<Figure size 1000x500 with 1 Axes>"
      ]
     },
     "metadata": {
      "needs_background": "light"
     },
     "output_type": "display_data"
    }
   ],
   "source": [
    "# both plots: same initial conditions\n",
    "phi1_0 = np.pi/2\n",
    "phi1_dot_0 = 0.\n",
    "phi2_0 = np.pi\n",
    "phi2_dot_0 = 0.\n",
    "phi1, phi1_dot, phi2, phi2_dot = dp1.solve_ode(t_pts, phi1_0, phi1_dot_0, phi2_0, phi2_dot_0)\n",
    "\n",
    "\n",
    "# start the plot!\n",
    "fig = plt.figure(figsize=(10,5))\n",
    "overall_title = 'Double pendulum from Lagrangian:  ' + \\\n",
    "                rf'  $\\phi_1(0) = {phi1_0:.2f},$' + \\\n",
    "                rf' $\\dot\\phi_1(0) = {phi1_dot_0:.2f}$' + \\\n",
    "                rf'  $\\phi_2(0) = {phi2_0:.2f},$' + \\\n",
    "                rf' $\\dot\\phi_2(0) = {phi2_dot_0:.2f}$' + \\\n",
    "                '\\n'     # \\n means a new line (adds some space here)\n",
    "fig.suptitle(overall_title, va='baseline')\n",
    "    \n",
    "# first plot: phi plot \n",
    "ax_a = fig.add_subplot(1,1,1)                  \n",
    "\n",
    "start, stop = start_stop_indices(t_pts, t_start, t_end)    \n",
    "plot_y_vs_x(t_pts[start : stop], phi1[start : stop], \n",
    "            axis_labels=phi_vs_time_labels, \n",
    "            color='blue',\n",
    "            label=None, \n",
    "            title=r'$\\phi_1(t)$', \n",
    "            ax=ax_a)    \n",
    "  \n",
    "plot_y_vs_x(t_pts[start : stop], phi2[start : stop],  \n",
    "            color='red',\n",
    "            label=None, \n",
    "            title=r'$\\phi_2(t)$', \n",
    "            ax=ax_a)     \n",
    "\n",
    "fig.tight_layout()  "
   ]
  },
  {
   "cell_type": "code",
   "execution_count": 9,
   "metadata": {},
   "outputs": [
    {
     "data": {
      "image/png": "[encoded data removed]",
      "text/plain": [
       "<Figure size 1000x500 with 1 Axes>"
      ]
     },
     "metadata": {
      "needs_background": "light"
     },
     "output_type": "display_data"
    }
   ],
   "source": [
    "# both plots: same initial conditions\n",
    "phi1_0 = np.pi/2\n",
    "phi1_dot_0 = 0.\n",
    "phi2_0 = np.pi/3\n",
    "phi2_dot_0 = 0.\n",
    "phi1, phi1_dot, phi2, phi2_dot = dp1.solve_ode(t_pts, phi1_0, phi1_dot_0, phi2_0, phi2_dot_0)\n",
    "\n",
    "\n",
    "# start the plot!\n",
    "fig = plt.figure(figsize=(10,5))\n",
    "overall_title = 'Double pendulum from Lagrangian:  ' + \\\n",
    "                rf'  $\\phi_1(0) = {phi1_0:.2f},$' + \\\n",
    "                rf' $\\dot\\phi_1(0) = {phi1_dot_0:.2f}$' + \\\n",
    "                rf'  $\\phi_2(0) = {phi2_0:.2f},$' + \\\n",
    "                rf' $\\dot\\phi_2(0) = {phi2_dot_0:.2f}$' + \\\n",
    "                '\\n'     # \\n means a new line (adds some space here)\n",
    "fig.suptitle(overall_title, va='baseline')\n",
    "    \n",
    "# first plot: phi plot \n",
    "ax_a = fig.add_subplot(1,1,1)                  \n",
    "\n",
    "start, stop = start_stop_indices(t_pts, t_start, t_end)    \n",
    "plot_y_vs_x(t_pts[start : stop], phi1[start : stop], \n",
    "            axis_labels=phi_vs_time_labels, \n",
    "            color='blue',\n",
    "            label=None, \n",
    "            title=r'$\\phi_1(t)$', \n",
    "            ax=ax_a)    \n",
    "  \n",
    "plot_y_vs_x(t_pts[start : stop], phi2[start : stop],  \n",
    "            color='red',\n",
    "            label=None, \n",
    "            title=r'$\\phi_2(t)$', \n",
    "            ax=ax_a)     \n",
    "\n",
    "fig.tight_layout()  "
   ]
  },
  {
   "cell_type": "code",
   "execution_count": null,
   "metadata": {},
   "outputs": [],
   "source": []
  }
 ],
 "metadata": {
  "kernelspec": {
   "display_name": "Python 3",
   "language": "python",
   "name": "python3"
  },
  "language_info": {
   "codemirror_mode": {
    "name": "ipython",
    "version": 3
   },
   "file_extension": ".py",
   "mimetype": "text/x-python",
   "name": "python",
   "nbconvert_exporter": "python",
   "pygments_lexer": "ipython3",
   "version": "3.7.0"
  }
 },
 "nbformat": 4,
 "nbformat_minor": 2
}
