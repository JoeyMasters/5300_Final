{
 "cells": [
  {
   "cell_type": "markdown",
   "metadata": {},
   "source": [
    "# Gravitational orbits (parts a and b)"
   ]
  },
  {
   "cell_type": "markdown",
   "metadata": {},
   "source": [
    "We consider energy plots and orbital solutions in polar coordinates for the general potential energy\n",
    "\n",
    "$\\begin{align}\n",
    "   U(r) = k r^n\n",
    "\\end{align}$\n",
    "\n",
    "for different ODE solution algorithms.  The `solve_ivp` function can itself be specified to use different solution methods (with the `method` keyword).  Here we will set it by default to use 'RK23', which is a variant on the Runge-Kutta second-order algorithm.  Second-order in this context means that the accuracy of a calculation will improve by a factor of $10^2 = 100$ if $\\Delta t$ is reduced by a factor of ten. \n",
    "\n",
    "We will compare it with the crudest algorithm, Euler's method, which is first order, and a second-order algorithm called Leapfrog, which is designed to be precisely <em>time-reversal invariant</em>.  This property guarantees conservation of energy, which is not true of the other algorithms we will consider.\n",
    "\n",
    "To solve the differential equations for orbits, we have defined the $\\mathbf{y}$ \n",
    "and $d\\mathbf{y}/dt$ vectors as\n",
    "\n",
    "$\\begin{align}\n",
    "  \\mathbf{y} = \\left(\\begin{array}{c} r(t) \\\\ \\dot r(t) \\\\ \\phi(t)  \\end{array} \\right) \n",
    "  \\qquad\n",
    "  \\frac{d\\mathbf{y}}{dt} \n",
    "       = \\left(\\begin{array}{c} \\dot r(t) \\\\ \\ddot r(t) \\\\ \\dot\\phi(t) \\end{array} \\right) \n",
    "       = \\left(\\begin{array}{c} \\dot r(t) \\\\ \n",
    "                                 -\\frac{1}{\\mu}\\frac{dU_{\\rm eff}(r)}{dr} \\\\ \n",
    "                                 \\frac{l}{\\mu r^2} \\end{array} \\right) \n",
    "\\end{align}$\n",
    "\n",
    "where we have substituted the differential equations for $\\ddot r$ and $\\dot\\phi$.\n",
    "\n",
    "Then Euler's method can be written as a simple prescription to obtain $\\mathbf{y}_{i+1}$ \n",
    "from $\\mathbf{y}_i$, where the subscripts label the elements of the `t_pts` array: \n",
    "$\\mathbf{y}_{i+1} = \\mathbf{y}_i + \\left(d\\mathbf{y}/dt\\right)_i \\Delta t$, or, by components:\n",
    "\n",
    "$\\begin{align}\n",
    "   r_{i+1} &= r_i + \\frac{d\\mathbf{y}_i[0]}{dt}  \\Delta t  \\\\\n",
    "   \\dot r_{i+1} &= \\dot r_{i} + \\frac{d\\mathbf{y}_i[1]}{dt}  \\Delta t \\\\\n",
    "   \\phi_{i+1} &= \\phi_i + \\frac{d\\mathbf{y}_i[2]}{dt} \\Delta t\n",
    "\\end{align}$\n",
    "\n",
    "**Look at the** `solve_ode_Euler` **method below and verify the algorithm is correctly implemented.** \n",
    "\n",
    "The leapfrog method does better by evaluating $\\dot r$ at a halfway time step before and after the $r$ evaluation, \n",
    "which is both more accurate and incorporates time reversal: \n",
    "\n",
    "$\\begin{align}\n",
    "   \\dot r_{i+1/2} &= \\dot r_{i} + \\frac{d\\mathbf{y}_i[1]}{dt}  \\Delta t/2 \\\\\n",
    "   r_{i+1} &= r_i +  \\dot r_{i+1/2}  \\Delta t  \\\\\n",
    "   \\dot r_{i+1} &= \\dot r_{i+1/2} + \\frac{d\\mathbf{y}_{i+1}[1]}{dt}  \\Delta t/2 \\\\\n",
    "   \\phi_{i+1} &= \\phi_i + \\frac{d\\mathbf{y}_i[2]}{dt} \\Delta t\n",
    "\\end{align}$\n",
    "\n",
    "**Look at the** `solve_ode_Leapfrog` **method below and verify the algorithm is correctly implemented.** \n",
    "\n",
    "A third method is the second-order Runge-Kutta algorithm, which we invoke from `solve_ivp` as `RK23`. \n",
    "It does not use a fixed time-step as in our \"homemade\" implementations, so there is not a direct \n",
    "comparison, but we can still check if it conserves energy.\n",
    "\n",
    "**Run the notebook.  You are to turn in and comment on the \"Change in energy with time\" plot at the end.  \n",
    "Where do you see energy conserved or not conserved?  Show that Euler is first order and leapfrog is second \n",
    "order by changing $\\Delta t$; describe what you did and what you found.**\n",
    "\n",
    "**Try another potential to see if you get the same general conclusions.**"
   ]
  },
  {
   "cell_type": "code",
   "execution_count": 1,
   "metadata": {},
   "outputs": [],
   "source": [
    "import numpy as np\n",
    "import matplotlib.pyplot as plt\n",
    "from scipy.integrate import solve_ivp"
   ]
  },
  {
   "cell_type": "code",
   "execution_count": 2,
   "metadata": {},
   "outputs": [],
   "source": [
    "# Change the common font size\n",
    "font_size = 14\n",
    "plt.rcParams.update({'font.size': font_size})"
   ]
  },
  {
   "cell_type": "code",
   "execution_count": 3,
   "metadata": {
    "code_folding": []
   },
   "outputs": [],
   "source": [
    "class GravitationalOrbits:\n",
    "    \"\"\"\n",
    "    Uses Lagrange's equations and its parameters for gravitational orbits.\n",
    "    \n",
    "    Parameters\n",
    "    ----------\n",
    "    G : float\n",
    "        gravitational constant\n",
    "    mass1 : float\n",
    "        mass of first particle\n",
    "    mass2 : float\n",
    "        mass of second particle\n",
    "\n",
    "    Methods\n",
    "    -------\n",
    "    dy_dt(t, y)\n",
    "        Returns the right side of the differential equation in vector y, \n",
    "        given time t and the corresponding value of y.\n",
    "    \"\"\"\n",
    "    \n",
    "    def __init__(self, mass1=1., mass2=1., G=1.):\n",
    "        self.mass1 = mass1\n",
    "        self.mass2 = mass2\n",
    "        self.G = G\n",
    "        \n",
    "    def dz_dt(self, t, z):\n",
    "        \"\"\"\n",
    "        This function returns the right-hand side of the diffeq: \n",
    "        [dz/dt d^2z/dt^2]\n",
    "        \n",
    "        Parameters\n",
    "        ----------\n",
    "        t : float\n",
    "            time \n",
    "        z : float\n",
    "            8-component vector with \n",
    "            z[0] = x_1(t) and z[1] = x_dot_1(t)\n",
    "            z[2] = y_1(t) and z[3] = y_dot_1(t)\n",
    "            z[4] = x_2(t) and z[5] = x_dot_2(t)\n",
    "            z[6] = y_2(t) and z[7] = y_dot_2(t)\n",
    "            \n",
    "        \"\"\"\n",
    "        r_12 = np.sqrt((z[0] - z[4])**2 + (z[2] - z[6])**2)\n",
    "        \n",
    "        return [z[1], self.G * self.mass2 * (z[4] - z[0]) / r_12**3, \\\n",
    "                z[3], self.G * self.mass2 * (z[6] - z[2]) / r_12**3, \\\n",
    "                z[5], -self.G * self.mass1 * (z[4] - z[0]) / r_12**3, \\\n",
    "                z[7], -self.G * self.mass1 * (z[6] - z[2]) / r_12**3]\n",
    "    \n",
    "    def solve_ode(self, t_pts, z_0,\n",
    "                  abserr=1.0e-8, relerr=1.0e-8):\n",
    "        \"\"\"\n",
    "        Solve the ODE given initial conditions.\n",
    "        Specify smaller abserr and relerr to get more precision.\n",
    "        \"\"\"\n",
    "        solution = solve_ivp(self.dz_dt, (t_pts[0], t_pts[-1]), \n",
    "                             z_0, t_eval=t_pts, method='RK23', \n",
    "                             atol=abserr, rtol=relerr)\n",
    "        x_1, x_dot_1, y_1, y_dot_1, x_2, x_dot_2, y_2, y_dot_2 = solution.y\n",
    "        \n",
    "        return x_1, x_dot_1, y_1, y_dot_1, x_2, x_dot_2, y_2, y_dot_2\n",
    " "
   ]
  },
  {
   "cell_type": "code",
   "execution_count": 4,
   "metadata": {},
   "outputs": [],
   "source": [
    "def plot_y_vs_x(x, y, axis_labels=None, label=None, title=None, color=None, linestyle=None,\n",
    "               semilogy=False, loglog=False, ax=None):\n",
    "    \"\"\"\n",
    "    Plotting function with line color and style, title, axis labels, and line labels.\n",
    "    \"\"\"\n",
    "    if ax is None:\n",
    "        ax = plt.gca()\n",
    "        \n",
    "    if (semilogy):\n",
    "        line, ax.semilogy(x, y, label=label, color=color, linesyle=linestyle)\n",
    "    \n",
    "    elif (loglog):\n",
    "        line, ax.loglog(x, y, label=label, color=color, linesyle=linestyle)\n",
    "    \n",
    "    else:\n",
    "        line, ax.ploty(x, y, label=label, color=color, linesyle=linestyle)\n",
    "        \n",
    "    if label is not None:\n",
    "        ax.legend()\n",
    "    if title is not None:\n",
    "        ax.set_title(title)\n",
    "    if axis_labels is not None:\n",
    "        ax.set_xlabels(axis_labels[0])\n",
    "        ax.set_ylabels(axis_labels[1])\n",
    "        \n",
    "    return ax, line"
   ]
  },
  {
   "cell_type": "code",
   "execution_count": 5,
   "metadata": {},
   "outputs": [],
   "source": [
    "def start_stop_indices(t_pts, plot_start, plot_stop):\n",
    "    start_index = (np.fabs(t_pts-plot_start)).argmin()  # index in t_pts array \n",
    "    stop_index = (np.fabs(t_pts-plot_stop)).argmin()  # index in t_pts array \n",
    "    return start_index, stop_index"
   ]
  },
  {
   "cell_type": "markdown",
   "metadata": {},
   "source": [
    "## Plot orbit"
   ]
  },
  {
   "cell_type": "code",
   "execution_count": 6,
   "metadata": {
    "scrolled": true
   },
   "outputs": [
    {
     "data": {
      "image/png": "[encoded data removed]",
      "text/plain": [
       "<Figure size 360x360 with 1 Axes>"
      ]
     },
     "metadata": {
      "needs_background": "light"
     },
     "output_type": "display_data"
    }
   ],
   "source": [
    "orbit_labels = (r'$x$', r'$y$')\n",
    "\n",
    "# Plotting time \n",
    "t_start = 0.\n",
    "t_end = 10.\n",
    "delta_t = 0.01\n",
    "\n",
    "t_pts = np.arange(t_start, t_end+delta_t, delta_t)  \n",
    "\n",
    "# Initial conditions\n",
    "G = 1.\n",
    "mass1 = 1.\n",
    "mass2 = 5.\n",
    "\n",
    "o1 = GravitationalOrbits(mass1, mass2, G)\n",
    "\n",
    "# initial conditions with zero com velocity \n",
    "x_1_0, x_dot_1_0 = 1., -1.\n",
    "y_1_0, y_dot_1_0 = 1., 1.\n",
    "x_2_0, x_dot_2_0 = -(mass1 / mass2) * x_1_0, -(mass1 / mass2) * x_dot_1_0\n",
    "y_2_0, y_dot_2_0 = -(mass1 / mass2) * y_1_0, -(mass1 / mass2) * y_dot_1_0\n",
    "\n",
    "z_0 = [x_1_0, x_dot_1_0, y_1_0, y_dot_1_0, x_2_0, x_dot_2_0, y_2_0, y_dot_2_0]\n",
    "x_1, x_dot_1, y_1, y_dot_1, x_2, x_dot_2, y_2, y_dot_2 = o1.solve_ode(t_pts, z_0)\n",
    "\n",
    "fig = plt.figure(figsize=(5,5))\n",
    "\n",
    "ax = fig.add_subplot(1,1,1)\n",
    "\n",
    "start, stop = start_stop_indices(t_pts, t_start, t_end)\n",
    "ax.plot(x_1, y_1, color='blue', label=r'$mass_1$')\n",
    "ax.plot(x_2, y_2, color='red', label=r'$mass_2$')\n",
    "ax.set_title('Gravitational Orbit')\n",
    "ax.legend()\n",
    "ax.set_aspect(1)\n",
    "\n",
    "fig.tight_layout()"
   ]
  },
  {
   "cell_type": "code",
   "execution_count": 7,
   "metadata": {},
   "outputs": [
    {
     "data": {
      "image/png": "[encoded data removed]",
      "text/plain": [
       "<Figure size 360x360 with 1 Axes>"
      ]
     },
     "metadata": {
      "needs_background": "light"
     },
     "output_type": "display_data"
    }
   ],
   "source": [
    "orbit_labels = (r'$x$', r'$y$')\n",
    "\n",
    "# Plotting time \n",
    "t_start = 0.\n",
    "t_end = 10.\n",
    "delta_t = 0.01\n",
    "\n",
    "t_pts = np.arange(t_start, t_end+delta_t, delta_t)  \n",
    "\n",
    "# Initial conditions\n",
    "G = 20.\n",
    "mass1 = 20.\n",
    "mass2 = 1.\n",
    "\n",
    "o1 = GravitationalOrbits(mass1, mass2, G)\n",
    "\n",
    "# initial conditions with zero com velocity \n",
    "x_1_0, x_dot_1_0 = .1, 0.\n",
    "y_1_0, y_dot_1_0 = 0., .75\n",
    "x_2_0, x_dot_2_0 = -(mass1 / mass2) * x_1_0, -(mass1 / mass2) * x_dot_1_0\n",
    "y_2_0, y_dot_2_0 = -(mass1 / mass2) * y_1_0, -(mass1 / mass2) * y_dot_1_0\n",
    "\n",
    "z_0 = [x_1_0, x_dot_1_0, y_1_0, y_dot_1_0, x_2_0, x_dot_2_0, y_2_0, y_dot_2_0]\n",
    "x_1, x_dot_1, y_1, y_dot_1, x_2, x_dot_2, y_2, y_dot_2 = o1.solve_ode(t_pts, z_0)\n",
    "\n",
    "fig = plt.figure(figsize=(5,5))\n",
    "\n",
    "ax = fig.add_subplot(1,1,1)\n",
    "\n",
    "start, stop = start_stop_indices(t_pts, t_start, t_end)\n",
    "ax.plot(x_1, y_1, color='blue', label=r'$mass_1$')\n",
    "ax.plot(x_2, y_2, color='red', label=r'$mass_2$')\n",
    "ax.set_title('Gravitational Orbit')\n",
    "ax.legend()\n",
    "ax.set_aspect(1)\n",
    "\n",
    "fig.tight_layout()"
   ]
  },
  {
   "cell_type": "code",
   "execution_count": null,
   "metadata": {},
   "outputs": [],
   "source": []
  }
 ],
 "metadata": {
  "kernelspec": {
   "display_name": "Python 3",
   "language": "python",
   "name": "python3"
  },
  "language_info": {
   "codemirror_mode": {
    "name": "ipython",
    "version": 3
   },
   "file_extension": ".py",
   "mimetype": "text/x-python",
   "name": "python",
   "nbconvert_exporter": "python",
   "pygments_lexer": "ipython3",
   "version": "3.7.0"
  }
 },
 "nbformat": 4,
 "nbformat_minor": 2
}
